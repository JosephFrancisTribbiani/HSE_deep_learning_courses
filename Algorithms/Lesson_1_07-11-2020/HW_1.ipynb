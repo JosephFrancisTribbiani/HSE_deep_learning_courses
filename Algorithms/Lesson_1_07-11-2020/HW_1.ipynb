{
 "cells": [
  {
   "cell_type": "markdown",
   "metadata": {},
   "source": [
    "# Домашнее Задание\n",
    "\n",
    "1) Потренироваться в рекурсии, например, здесь: https://informatics.mccme.ru/mod/statements/view.php?id=2543#1 (задачи в менюшке справа, нужно зарегаться чтобы решать)\n",
    "\n",
    "2) Задачи на метод двух указателей:\n",
    "\n",
    "#### Простые:\n",
    "\n",
    "https://leetcode.com/problems/longest-substring-without-repeating-characters/<br>\n",
    "https://leetcode.com/problems/remove-duplicates-from-sorted-array/<br>\n",
    "https://leetcode.com/problems/merge-sorted-array/<br>\n",
    "\n",
    "#### Посложнее: \n",
    "\n",
    "https://leetcode.com/problems/long-pressed-name/<br>\n",
    "https://leetcode.com/problems/trapping-rain-water/<br>\n",
    "\n",
    "3) Придумать решение первой задачи с ассимптотикой по времени O(n) (например используя метод двух указателей)\n"
   ]
  },
  {
   "cell_type": "markdown",
   "metadata": {},
   "source": [
    "# Мои решения #\n",
    "### Задача 2.1 (3. Longest Substring Without Repeating Characters) ###"
   ]
  },
  {
   "cell_type": "markdown",
   "metadata": {},
   "source": [
    "Given a string s, find the length of the longest substring without repeating characters."
   ]
  },
  {
   "cell_type": "markdown",
   "metadata": {},
   "source": [
    "**SOLUTION 1** - Со сложностью $ O(n) $"
   ]
  },
  {
   "cell_type": "code",
   "execution_count": 35,
   "metadata": {},
   "outputs": [],
   "source": [
    "# Runtime: 56 ms, faster than 79.16% of Python3 online submissions for Longest Substring Without Repeating Characters.\n",
    "# Memory Usage: 14.3 MB, less than 12.47% of Python3 online submissions for Longest Substring Without Repeating Characters.\n",
    "def lengthOfLongestSubstring(s: str):\n",
    "    pointer1, pointer2, l_max = 0, 0, 0\n",
    "    h_table = {}\n",
    "\n",
    "    for pointer2 in range(len(s)):\n",
    "        if s[pointer2] in h_table.keys() and pointer1 <= h_table[s[pointer2]]:\n",
    "            l_max = max(l_max, pointer2 - pointer1)\n",
    "            pointer1 = h_table[s[pointer2]] + 1\n",
    "        h_table[s[pointer2]] = pointer2\n",
    "    l_max = max(l_max, len(s) - pointer1)\n",
    "    return l_max"
   ]
  },
  {
   "cell_type": "code",
   "execution_count": 36,
   "metadata": {},
   "outputs": [
    {
     "data": {
      "text/plain": [
       "6"
      ]
     },
     "execution_count": 36,
     "metadata": {},
     "output_type": "execute_result"
    }
   ],
   "source": [
    "lengthOfLongestSubstring('abcdbefcg')"
   ]
  },
  {
   "cell_type": "code",
   "execution_count": 37,
   "metadata": {},
   "outputs": [
    {
     "data": {
      "text/plain": [
       "3"
      ]
     },
     "execution_count": 37,
     "metadata": {},
     "output_type": "execute_result"
    }
   ],
   "source": [
    "lengthOfLongestSubstring('aabaabgbb')"
   ]
  },
  {
   "cell_type": "markdown",
   "metadata": {},
   "source": [
    "### Задача 2.2 (26. Remove Duplicates from Sorted Array) ###"
   ]
  },
  {
   "cell_type": "markdown",
   "metadata": {},
   "source": [
    "Given a sorted array nums, remove the duplicates in-place such that each element appears only once and returns the new length.\n",
    "\n",
    "Do not allocate extra space for another array, you must do this by modifying the input array in-place with O(1) extra memory.\n",
    "\n",
    "Clarification:\n",
    "\n",
    "Confused why the returned value is an integer but your answer is an array?\n",
    "\n",
    "Note that the input array is passed in by reference, which means a modification to the input array will be known to the caller as well.\n",
    "\n",
    "Internally you can think of this"
   ]
  },
  {
   "cell_type": "markdown",
   "metadata": {},
   "source": [
    "**SOLUTION 1**"
   ]
  },
  {
   "cell_type": "code",
   "execution_count": 14,
   "metadata": {},
   "outputs": [],
   "source": [
    "# Runtime: 100 ms, faster than 26.88% of Python3 online submissions for Remove Duplicates from Sorted Array.\n",
    "# Memory Usage: 15.8 MB, less than 93.51% of Python3 online submissions for Remove Duplicates from Sorted Array.\n",
    "def remove_duplicates(nums: list):\n",
    "    length = len(nums)\n",
    "    i = 0\n",
    "    while i < length - 1:\n",
    "        if nums[i] == nums[i + 1]:\n",
    "            nums.pop(i)\n",
    "            length -= 1\n",
    "        else:\n",
    "            i += 1\n",
    "    return length, nums"
   ]
  },
  {
   "cell_type": "code",
   "execution_count": 12,
   "metadata": {},
   "outputs": [
    {
     "data": {
      "text/plain": [
       "(5, [0, 1, 2, 3, 4])"
      ]
     },
     "execution_count": 12,
     "metadata": {},
     "output_type": "execute_result"
    }
   ],
   "source": [
    "nums = [0, 0, 1, 1, 1, 2, 2, 3, 3, 4]\n",
    "remove_duplicates(nums)"
   ]
  },
  {
   "cell_type": "code",
   "execution_count": 13,
   "metadata": {},
   "outputs": [
    {
     "name": "stdout",
     "output_type": "stream",
     "text": [
      "(2, [1, 2])\n"
     ]
    }
   ],
   "source": [
    "nums = [1, 1, 2]\n",
    "print(remove_duplicates(nums))"
   ]
  },
  {
   "cell_type": "markdown",
   "metadata": {},
   "source": [
    "**SOLUTION 2 (faster)**<br>\n",
    "The <a href=\"https://youtu.be/rlfsnRY0S9k\">video</a> with this solution:"
   ]
  },
  {
   "cell_type": "code",
   "execution_count": 18,
   "metadata": {},
   "outputs": [],
   "source": [
    "#Runtime: 72 ms, faster than 96.40% of Python3 online submissions for Remove Duplicates from Sorted Array.\n",
    "#Memory Usage: 15.7 MB, less than 93.51% of Python3 online submissions for Remove Duplicates from Sorted Array.\n",
    "\n",
    "def remove_duplicates(nums):\n",
    "    l = len(nums)\n",
    "    counter1 = 0\n",
    "    for counter2 in range(1, l):\n",
    "        if nums[counter1] != nums[counter2]:\n",
    "            counter1 += 1\n",
    "            nums[counter1] = nums[counter2]\n",
    "    return counter1 + 1, nums[:counter1 + 1]"
   ]
  },
  {
   "cell_type": "code",
   "execution_count": 16,
   "metadata": {},
   "outputs": [
    {
     "data": {
      "text/plain": [
       "(5, [0, 1, 2, 3, 4])"
      ]
     },
     "execution_count": 16,
     "metadata": {},
     "output_type": "execute_result"
    }
   ],
   "source": [
    "nums = [0, 0, 1, 1, 1, 2, 2, 3, 3, 4]\n",
    "remove_duplicates(nums)"
   ]
  },
  {
   "cell_type": "code",
   "execution_count": 17,
   "metadata": {},
   "outputs": [
    {
     "name": "stdout",
     "output_type": "stream",
     "text": [
      "(2, [1, 2])\n"
     ]
    }
   ],
   "source": [
    "nums = [1, 1, 2]\n",
    "print(remove_duplicates(nums))"
   ]
  },
  {
   "cell_type": "markdown",
   "metadata": {},
   "source": [
    "### Вопросы ###\n",
    "1. Почему если использовать pop() или remove() у нас увеличивается сложность с $ O(n) $ до $ O(n^2) $?\n",
    "2. Я так и не понял смысл конструкции в определении функции\n",
    "```python\n",
    "class Solution:\n",
    "    def removeDuplicates(self, nums: List[int]) -> int:\n",
    "```"
   ]
  },
  {
   "cell_type": "markdown",
   "metadata": {},
   "source": [
    "### Задача 2.3 (88. Merge Sorted Array) ###\n",
    "Given two sorted integer arrays nums1 and nums2, merge nums2 into nums1 as one sorted array.\n",
    "\n",
    "Note:\n",
    "\n",
    "The number of elements initialized in nums1 and nums2 are m and n respectively.\n",
    "You may assume that nums1 has enough space (size that is equal to m + n) to hold additional elements from nums2"
   ]
  },
  {
   "cell_type": "markdown",
   "metadata": {},
   "source": [
    "**SOLUTION 1**"
   ]
  },
  {
   "cell_type": "code",
   "execution_count": 21,
   "metadata": {},
   "outputs": [],
   "source": [
    "# Runtime: 20 ms, faster than 99.91% of Python3 online submissions for Merge Sorted Array.\n",
    "# Memory Usage: 14.2 MB, less than 100.00% of Python3 online submissions for Merge Sorted Array.\n",
    "def merge(nums1, m, nums2, n):\n",
    "    i = m + n - 1\n",
    "    while n > 0:\n",
    "        if nums1[m - 1] > nums2[n - 1] and m > 0:\n",
    "            nums1[i] = nums1[m - 1]\n",
    "            m -= 1\n",
    "        elif n > 0:\n",
    "            nums1[i] = nums2[n - 1]\n",
    "            n -= 1\n",
    "        i -= 1\n",
    "    return nums1"
   ]
  },
  {
   "cell_type": "code",
   "execution_count": 22,
   "metadata": {},
   "outputs": [
    {
     "data": {
      "text/plain": [
       "[1, 2, 2, 3, 5, 6]"
      ]
     },
     "execution_count": 22,
     "metadata": {},
     "output_type": "execute_result"
    }
   ],
   "source": [
    "array1, m = [1, 2, 3, 0, 0, 0], 3\n",
    "array2, n = [2, 5, 6], 3\n",
    "\n",
    "merge(array1, m, array2, n)"
   ]
  },
  {
   "cell_type": "markdown",
   "metadata": {},
   "source": [
    "### Задача 2.4 (925. Long Pressed Name) ###\n",
    "\n",
    "Your friend is typing his name into a keyboard.  Sometimes, when typing a character c, the key might get long pressed, and the character will be typed 1 or more times.\n",
    "\n",
    "You examine the typed characters of the keyboard.  Return True if it is possible that it was your friends name, with some characters (possibly none) being long pressed."
   ]
  },
  {
   "cell_type": "markdown",
   "metadata": {},
   "source": [
    "**SOLUTION 1**"
   ]
  },
  {
   "cell_type": "code",
   "execution_count": 32,
   "metadata": {},
   "outputs": [],
   "source": [
    "# Runtime: 28 ms, faster than 85.46% of Python3 online submissions for Long Pressed Name.\n",
    "# Memory Usage: 14.2 MB, less than 40.86% of Python3 online submissions for Long Pressed Name.\n",
    "def is_long_pressed_name(name: str, typed: str) -> bool:\n",
    "    pre = None\n",
    "    l = len(name)\n",
    "    i = 0\n",
    "    for j in typed:\n",
    "        if i < l and j == name[i]:\n",
    "            pre = name[i]\n",
    "            i += 1\n",
    "        elif j != pre:\n",
    "            return False\n",
    "    if i != l:\n",
    "        return False\n",
    "    else:\n",
    "        return True"
   ]
  },
  {
   "cell_type": "code",
   "execution_count": 33,
   "metadata": {},
   "outputs": [
    {
     "data": {
      "text/plain": [
       "True"
      ]
     },
     "execution_count": 33,
     "metadata": {},
     "output_type": "execute_result"
    }
   ],
   "source": [
    "is_long_pressed_name('alex', 'aaleex')"
   ]
  },
  {
   "cell_type": "code",
   "execution_count": 34,
   "metadata": {},
   "outputs": [
    {
     "data": {
      "text/plain": [
       "False"
      ]
     },
     "execution_count": 34,
     "metadata": {},
     "output_type": "execute_result"
    }
   ],
   "source": [
    "is_long_pressed_name('saeed', 'ssaaedd')"
   ]
  },
  {
   "cell_type": "markdown",
   "metadata": {},
   "source": [
    "### Задача 2.5 (42. Trapping Rain Water) ###\n",
    "\n",
    "Given $ n $ non-negative integers representing an elevation map where the width of each bar is 1, compute how much water it can trap after raining."
   ]
  },
  {
   "cell_type": "markdown",
   "metadata": {},
   "source": [
    "**SOLUTION 1**"
   ]
  },
  {
   "cell_type": "code",
   "execution_count": 29,
   "metadata": {},
   "outputs": [],
   "source": [
    "# Runtime: 48 ms, faster than 86.20% of Python3 online submissions for Trapping Rain Water.\n",
    "# Memory Usage: 14.7 MB, less than 30.20% of Python3 online submissions for Trapping Rain Water.\n",
    "\n",
    "def trap(height: list) -> int:\n",
    "    if not height:\n",
    "        return 0\n",
    "    index_l = 0\n",
    "    index_r = len(height) - 1\n",
    "    total = 0\n",
    "    sum_l, sum_r = height[index_l], height[index_r]\n",
    "\n",
    "    while index_l < index_r:\n",
    "        if height[index_r] > height[index_l]:\n",
    "            total += sum_l - height[index_l]\n",
    "            index_l += 1\n",
    "            if height[index_l] > sum_l:\n",
    "                sum_l = height[index_l]\n",
    "        else:\n",
    "            total += sum_r - height[index_r]\n",
    "            index_r -= 1\n",
    "            if height[index_r] > sum_r:\n",
    "                sum_r = height[index_r]\n",
    "    return total"
   ]
  },
  {
   "cell_type": "markdown",
   "metadata": {},
   "source": [
    "<img src=\"2.jpg\" width=\"300\">"
   ]
  },
  {
   "cell_type": "code",
   "execution_count": 30,
   "metadata": {},
   "outputs": [
    {
     "data": {
      "text/plain": [
       "6"
      ]
     },
     "execution_count": 30,
     "metadata": {},
     "output_type": "execute_result"
    }
   ],
   "source": [
    "trap([0, 1, 0, 2, 1, 0, 1, 3, 2, 1, 2, 1])"
   ]
  },
  {
   "cell_type": "markdown",
   "metadata": {},
   "source": [
    "<img src=\"1.jpg\" width=\"150\">"
   ]
  },
  {
   "cell_type": "code",
   "execution_count": 31,
   "metadata": {},
   "outputs": [
    {
     "data": {
      "text/plain": [
       "9"
      ]
     },
     "execution_count": 31,
     "metadata": {},
     "output_type": "execute_result"
    }
   ],
   "source": [
    "trap([4, 2, 0, 3, 2, 5])"
   ]
  }
 ],
 "metadata": {
  "kernelspec": {
   "display_name": "Python 3",
   "language": "python",
   "name": "python3"
  },
  "language_info": {
   "codemirror_mode": {
    "name": "ipython",
    "version": 3
   },
   "file_extension": ".py",
   "mimetype": "text/x-python",
   "name": "python",
   "nbconvert_exporter": "python",
   "pygments_lexer": "ipython3",
   "version": "3.8.3"
  }
 },
 "nbformat": 4,
 "nbformat_minor": 4
}
